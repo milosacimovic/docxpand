{
 "cells": [
  {
   "cell_type": "code",
   "execution_count": 2,
   "metadata": {},
   "outputs": [],
   "source": [
    "from lxml import etree as ET\n",
    "\n",
    "def merge_tspan_attributes(parent_tspan, child_tspan):\n",
    "    # Merge class attributes\n",
    "    parent_class = parent_tspan.get('class', '')\n",
    "    child_class = child_tspan.get('class', '')\n",
    "    if child_class:\n",
    "        parent_tspan.set('class', f\"{parent_class} {child_class}\".strip())\n",
    "\n",
    "    # Merge style attributes\n",
    "    parent_style = parent_tspan.get('style', '')\n",
    "    child_style = child_tspan.get('style', '')\n",
    "    if child_style:\n",
    "        parent_tspan.set('style', f\"{parent_style};{child_style}\".strip(';'))\n",
    "\n",
    "    # Merge other attributes except id\n",
    "    for attr, value in child_tspan.attrib.items():\n",
    "        if attr not in ['id', 'class', 'style']:\n",
    "            parent_tspan.set(attr, value)\n",
    "\n",
    "def flatten_tspan(tspan):\n",
    "    # Loop through child tspans and merge them into the parent tspan\n",
    "    for child in list(tspan):\n",
    "        if child.tag.endswith('tspan'):\n",
    "            merge_tspan_attributes(tspan, child)\n",
    "            # Append text from the child tspan to the parent tspan\n",
    "            if child.text:\n",
    "                tspan.text = (tspan.text or '') + child.text\n",
    "\n",
    "            # Remove child tspan after merging\n",
    "            tspan.remove(child)\n",
    "\n",
    "def process_svg(file_path):\n",
    "    # Parse the SVG file\n",
    "    parser = ET.XMLParser(remove_blank_text=True)\n",
    "    tree = ET.parse(file_path, parser)\n",
    "    root = tree.getroot()\n",
    "\n",
    "    # Find all <text> elements inside the group with id=\"Texte\"\n",
    "    nsmap = root.nsmap  # Preserve the SVG namespaces\n",
    "    texte_group = root.find(\".//{*}g[@id='Texte']\", namespaces=nsmap)\n",
    "    \n",
    "    if texte_group is not None:\n",
    "        for text_elem in texte_group.findall('{*}text', namespaces=nsmap):\n",
    "            # Process all tspans in each <text> element\n",
    "            for tspan_elem in text_elem.findall('{*}tspan', namespaces=nsmap):\n",
    "                flatten_tspan(tspan_elem)\n",
    "\n",
    "    # Save the modified SVG file with proper XML declaration\n",
    "    with open('modified_svg.svg', 'wb') as f:\n",
    "        f.write(ET.tostring(root, pretty_print=True, xml_declaration=True, encoding='UTF-8', doctype='<!DOCTYPE svg>'))\n",
    "\n",
    "# Example usage\n",
    "process_svg('docxpand/templates/pp_td3_d/front.svg')\n"
   ]
  },
  {
   "cell_type": "code",
   "execution_count": null,
   "metadata": {},
   "outputs": [],
   "source": []
  }
 ],
 "metadata": {
  "kernelspec": {
   "display_name": "docxpand",
   "language": "python",
   "name": "python3"
  },
  "language_info": {
   "codemirror_mode": {
    "name": "ipython",
    "version": 3
   },
   "file_extension": ".py",
   "mimetype": "text/x-python",
   "name": "python",
   "nbconvert_exporter": "python",
   "pygments_lexer": "ipython3",
   "version": "3.10.14"
  }
 },
 "nbformat": 4,
 "nbformat_minor": 2
}
